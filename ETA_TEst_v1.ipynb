{
 "cells": [
  {
   "cell_type": "code",
   "execution_count": 26,
   "metadata": {},
   "outputs": [],
   "source": [
    "from math import radians, cos, sin, asin, sqrt\n",
    "import numpy as np\n",
    "import pandas as pd\n",
    "import matplotlib.pyplot as plt"
   ]
  },
  {
   "cell_type": "code",
   "execution_count": 27,
   "metadata": {},
   "outputs": [
    {
     "data": {
      "text/plain": [
       "(165, 11)"
      ]
     },
     "execution_count": 27,
     "metadata": {},
     "output_type": "execute_result"
    }
   ],
   "source": [
    "#Import data from the road segment file\n",
    "segments = pd.read_csv('RP0_Road_Segments_v3.csv', sep=',',  header=0)\n",
    "segments.shape"
   ]
  },
  {
   "cell_type": "code",
   "execution_count": 28,
   "metadata": {},
   "outputs": [
    {
     "data": {
      "text/html": [
       "<div>\n",
       "<style scoped>\n",
       "    .dataframe tbody tr th:only-of-type {\n",
       "        vertical-align: middle;\n",
       "    }\n",
       "\n",
       "    .dataframe tbody tr th {\n",
       "        vertical-align: top;\n",
       "    }\n",
       "\n",
       "    .dataframe thead th {\n",
       "        text-align: right;\n",
       "    }\n",
       "</style>\n",
       "<table border=\"1\" class=\"dataframe\">\n",
       "  <thead>\n",
       "    <tr style=\"text-align: right;\">\n",
       "      <th></th>\n",
       "      <th>Segment</th>\n",
       "      <th>Latitude</th>\n",
       "      <th>Longitude</th>\n",
       "      <th>Distance mt</th>\n",
       "      <th>Speed</th>\n",
       "      <th>Road_Segment</th>\n",
       "      <th>Time_to_one</th>\n",
       "      <th>Time_to_two</th>\n",
       "      <th>Time_to_three</th>\n",
       "      <th>Time_to_four</th>\n",
       "      <th>Time_to_destination</th>\n",
       "    </tr>\n",
       "  </thead>\n",
       "  <tbody>\n",
       "    <tr>\n",
       "      <th>0</th>\n",
       "      <td>TH25/4</td>\n",
       "      <td>51.523098</td>\n",
       "      <td>-0.038274</td>\n",
       "      <td>10.434094</td>\n",
       "      <td>0.00</td>\n",
       "      <td>Regular</td>\n",
       "      <td>Undefined</td>\n",
       "      <td>Undefined</td>\n",
       "      <td>Undefined</td>\n",
       "      <td>Undefined</td>\n",
       "      <td>Undefined</td>\n",
       "    </tr>\n",
       "    <tr>\n",
       "      <th>1</th>\n",
       "      <td>TH25/17</td>\n",
       "      <td>51.523149</td>\n",
       "      <td>-0.038004</td>\n",
       "      <td>37.729460</td>\n",
       "      <td>9.45</td>\n",
       "      <td>Regular</td>\n",
       "      <td>Undefined</td>\n",
       "      <td>Undefined</td>\n",
       "      <td>Undefined</td>\n",
       "      <td>Undefined</td>\n",
       "      <td>Undefined</td>\n",
       "    </tr>\n",
       "    <tr>\n",
       "      <th>2</th>\n",
       "      <td>TH25/19</td>\n",
       "      <td>51.523041</td>\n",
       "      <td>-0.038471</td>\n",
       "      <td>39.090908</td>\n",
       "      <td>0.00</td>\n",
       "      <td>Regular</td>\n",
       "      <td>Undefined</td>\n",
       "      <td>Undefined</td>\n",
       "      <td>Undefined</td>\n",
       "      <td>Undefined</td>\n",
       "      <td>Undefined</td>\n",
       "    </tr>\n",
       "    <tr>\n",
       "      <th>3</th>\n",
       "      <td>TH25/21</td>\n",
       "      <td>51.522737</td>\n",
       "      <td>-0.039775</td>\n",
       "      <td>94.371015</td>\n",
       "      <td>7.96</td>\n",
       "      <td>Regular</td>\n",
       "      <td>Undefined</td>\n",
       "      <td>Undefined</td>\n",
       "      <td>Undefined</td>\n",
       "      <td>Undefined</td>\n",
       "      <td>Undefined</td>\n",
       "    </tr>\n",
       "    <tr>\n",
       "      <th>4</th>\n",
       "      <td>TH25/22</td>\n",
       "      <td>51.522793</td>\n",
       "      <td>-0.039800</td>\n",
       "      <td>6.732958</td>\n",
       "      <td>8.70</td>\n",
       "      <td>Anomaly</td>\n",
       "      <td>10</td>\n",
       "      <td>26</td>\n",
       "      <td>33</td>\n",
       "      <td>45</td>\n",
       "      <td>52</td>\n",
       "    </tr>\n",
       "  </tbody>\n",
       "</table>\n",
       "</div>"
      ],
      "text/plain": [
       "   Segment   Latitude  Longitude  Distance mt  Speed Road_Segment Time_to_one  \\\n",
       "0   TH25/4  51.523098  -0.038274    10.434094   0.00      Regular   Undefined   \n",
       "1  TH25/17  51.523149  -0.038004    37.729460   9.45      Regular   Undefined   \n",
       "2  TH25/19  51.523041  -0.038471    39.090908   0.00      Regular   Undefined   \n",
       "3  TH25/21  51.522737  -0.039775    94.371015   7.96      Regular   Undefined   \n",
       "4  TH25/22  51.522793  -0.039800     6.732958   8.70      Anomaly          10   \n",
       "\n",
       "  Time_to_two Time_to_three Time_to_four Time_to_destination  \n",
       "0   Undefined     Undefined    Undefined           Undefined  \n",
       "1   Undefined     Undefined    Undefined           Undefined  \n",
       "2   Undefined     Undefined    Undefined           Undefined  \n",
       "3   Undefined     Undefined    Undefined           Undefined  \n",
       "4          26            33           45                  52  "
      ]
     },
     "execution_count": 28,
     "metadata": {},
     "output_type": "execute_result"
    }
   ],
   "source": [
    "segments.head(5)"
   ]
  },
  {
   "cell_type": "code",
   "execution_count": 29,
   "metadata": {},
   "outputs": [],
   "source": [
    "lat_rt = 51.51085\n",
    "lon_rt = -0.04201000\n",
    "lon_rt, lat_rt = map(radians, [lon_rt, lat_rt])\n",
    "distance = 0\n",
    "min_distance = 10000"
   ]
  },
  {
   "cell_type": "code",
   "execution_count": 32,
   "metadata": {},
   "outputs": [
    {
     "name": "stdout",
     "output_type": "stream",
     "text": [
      "0.25272311708390577\n",
      "Index: 109\n",
      "Closest segment: 51.510870000000004\n",
      "Closest segment: -0.042024\n",
      "Time to stop 1: Completed\n",
      "Time to stop 2: Completed\n",
      "Time to stop 3: Completed\n",
      "Time to stop 4: 1\n",
      "Time to stop 5: 8\n",
      "State of the road: Regular\n"
     ]
    }
   ],
   "source": [
    "for i in range(0,len(segments)):\n",
    "\n",
    "    #Select the latitude and longitude of the road segment\n",
    "    lat_seg = segments.iloc[i,1]\n",
    "    lon_seg = segments.iloc[i,2]\n",
    "    lon_seg, lat_seg = map(radians, [lon_seg, lat_seg])\n",
    "    \n",
    "    #identify the distance between the road segment and the real-time location\n",
    "    dlon = lon_rt - lon_seg\n",
    "    dlat = lat_rt - lat_seg\n",
    "    a = sin(dlat/2)**2 + cos(lat_seg) * cos(lat_rt) * sin(dlon/2)**2\n",
    "    c = 2 * asin(sqrt(a))\n",
    "    r = 6637.45\n",
    "    distance = r*c*100\n",
    "    #Compare the distance to the previous minimum distance registered\n",
    "    if distance < min_distance:\n",
    "        min_distance = distance\n",
    "        index = i\n",
    "    else:\n",
    "        continue\n",
    "\n",
    "print(min_distance)\n",
    "print(\"Index: \" + str(index))\n",
    "print(\"Closest segment: \" + str(segments.iloc[index,1]))\n",
    "print(\"Closest segment: \" + str(segments.iloc[index,2]))\n",
    "print(\"Time to stop 1: \" + segments.iloc[index,6])\n",
    "print(\"Time to stop 2: \" + segments.iloc[index,7])\n",
    "print(\"Time to stop 3: \" + segments.iloc[index,8])\n",
    "print(\"Time to stop 4: \" + segments.iloc[index,9])\n",
    "print(\"Time to stop 5: \" + segments.iloc[index,10])\n",
    "print(\"State of the road: \" + segments.iloc[index,5])"
   ]
  },
  {
   "cell_type": "code",
   "execution_count": 31,
   "metadata": {},
   "outputs": [
    {
     "name": "stdout",
     "output_type": "stream",
     "text": [
      "nan\n",
      "nan\n"
     ]
    },
    {
     "data": {
      "text/plain": [
       "{'AccX': {'S': '0'},\n",
       " 'AccY': {'S': '0'},\n",
       " 'AccZ': {'S': '0'},\n",
       " 'Date': {'S': '2019-08-06'},\n",
       " 'Latitude': {'S': '51.523045'},\n",
       " 'log': {'S': 'London/25/526'},\n",
       " 'Longitude': {'S': '-0.038558'},\n",
       " 'PassIn': {'S': '0'},\n",
       " 'PassOut': {'S': '0'},\n",
       " 'Speed': {'S': '0.0'}}"
      ]
     },
     "execution_count": 31,
     "metadata": {},
     "output_type": "execute_result"
    }
   ],
   "source": [
    "print(a)\n",
    "print(c)\n",
    "{  \"AccX\" : { \"S\" : \"0\" },  \"AccY\" : { \"S\" : \"0\" },  \"AccZ\" : { \"S\" : \"0\" },  \"Date\" : { \"S\" : \"2019-08-06\" },  \"Latitude\" : { \"S\" : \"51.523045\" },  \"log\" : { \"S\" : \"London/25/526\" },  \"Longitude\" : { \"S\" : \"-0.038558\" },  \"PassIn\" : { \"S\" : \"0\" },  \"PassOut\" : { \"S\" : \"0\" },  \"Speed\" : { \"S\" : \"0.0\" }}"
   ]
  }
 ],
 "metadata": {
  "kernelspec": {
   "display_name": "Python 3",
   "language": "python",
   "name": "python3"
  },
  "language_info": {
   "codemirror_mode": {
    "name": "ipython",
    "version": 3
   },
   "file_extension": ".py",
   "mimetype": "text/x-python",
   "name": "python",
   "nbconvert_exporter": "python",
   "pygments_lexer": "ipython3",
   "version": "3.7.0"
  }
 },
 "nbformat": 4,
 "nbformat_minor": 2
}
